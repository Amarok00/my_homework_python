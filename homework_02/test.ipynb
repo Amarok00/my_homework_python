{
 "cells": [
  {
   "cell_type": "code",
   "execution_count": 49,
   "metadata": {},
   "outputs": [
    {
     "name": "stdout",
     "output_type": "stream",
     "text": [
      "[2, 3, 5, 7, 11]\n",
      "[2, 4, 12, 22, 36, 74, 192]\n",
      "[1, 3, 5, 7, 11, 15]\n"
     ]
    }
   ],
   "source": [
    "\n",
    "def type_odd(numbers_list):\n",
    "    return [nums for nums in numbers_list if nums % 2 != 0]\n",
    "\n",
    "\n",
    "def type_evеn(numbers_list):\n",
    "    return [nums for nums in numbers_list if nums % 2 ==0 ]\n",
    "\n",
    "\n",
    "def is_prime(number):\n",
    "    if number < 2:\n",
    "        return False\n",
    "    for i in range(2, int(number**0.5) + 1):\n",
    "        if number % i == 0:\n",
    "            return False\n",
    "    return True\n",
    "    \n",
    "\n",
    "def filter_numbers(filter_type):\n",
    "    match filter_type:\n",
    "        case 'odd':\n",
    "            return type_odd([1,2,3,4,5,7,11,12,15,22,36,74,192])\n",
    "        case 'evеn':\n",
    "            return type_evеn([1,2,3,4,5,7,11,12,15,22,36,74,192])\n",
    "        case 'prime':\n",
    "            return [num for num in [1,2,3,4,5,7,11,12,15,22,36,74,192] if is_prime(num)]\n",
    "        case _:\n",
    "            return ValueError('Invalid value, correct incoming data')\n",
    "        \n"
   ]
  },
  {
   "cell_type": "code",
   "execution_count": null,
   "metadata": {},
   "outputs": [],
   "source": []
  }
 ],
 "metadata": {
  "kernelspec": {
   "display_name": "Python 3",
   "language": "python",
   "name": "python3"
  },
  "language_info": {
   "codemirror_mode": {
    "name": "ipython",
    "version": 3
   },
   "file_extension": ".py",
   "mimetype": "text/x-python",
   "name": "python",
   "nbconvert_exporter": "python",
   "pygments_lexer": "ipython3",
   "version": "3.10.9"
  },
  "orig_nbformat": 4,
  "vscode": {
   "interpreter": {
    "hash": "e7370f93d1d0cde622a1f8e1c04877d8463912d04d973331ad4851f04de6915a"
   }
  }
 },
 "nbformat": 4,
 "nbformat_minor": 2
}
